{
 "cells": [
  {
   "cell_type": "code",
   "execution_count": 55,
   "id": "31dbe1ae-00a7-42b0-9417-d848d90534ee",
   "metadata": {},
   "outputs": [],
   "source": [
    "import cv2 as cv\n",
    "import numpy as np\n",
    "import sys\n",
    "from collections import deque\n",
    "import random"
   ]
  },
  {
   "cell_type": "code",
   "execution_count": 56,
   "id": "3e16117d-01c3-4414-8709-e74a521fbe29",
   "metadata": {},
   "outputs": [],
   "source": [
    "RED = (0,0,255)\n",
    "BLUE = (255,0,0)\n",
    "GREEN = (0,255,0)\n",
    "BLACK = (0,0,0)\n",
    "WHITE = (255,255,255)\n",
    "YELLOW = (0,255,255)\n"
   ]
  },
  {
   "cell_type": "code",
   "execution_count": 57,
   "id": "c9aa10a0-4aa5-42dc-a9ed-b78329db3d3a",
   "metadata": {},
   "outputs": [],
   "source": [
    "sys.setrecursionlimit(20000000) "
   ]
  },
  {
   "cell_type": "code",
   "execution_count": 58,
   "id": "015ea452-2062-4b34-bf96-3310457637bc",
   "metadata": {},
   "outputs": [
    {
     "name": "stdout",
     "output_type": "stream",
     "text": [
      "(828, 1494, 3)\n",
      "(414, 747, 3)\n"
     ]
    },
    {
     "data": {
      "text/plain": [
       "True"
      ]
     },
     "execution_count": 58,
     "metadata": {},
     "output_type": "execute_result"
    }
   ],
   "source": [
    "maze = cv.imread(\"maze.png\")\n",
    "print(maze.shape)\n",
    "#We choose the bottom left section of the map\n",
    "maze2 = maze[ 414 : , : 747]\n",
    "n, l = maze2.shape[ :2]\n",
    "print(maze2.shape)\n",
    "cv.imwrite(\"finalImg.png\", maze2)"
   ]
  },
  {
   "cell_type": "code",
   "execution_count": 59,
   "id": "cf1db2e9-5075-43ab-9c64-fc615e37743c",
   "metadata": {},
   "outputs": [],
   "source": [
    "#start and end are two random points on the white path on the map\n",
    "startXY = (75, 112)\n",
    "endXY = (262, 415)\n",
    "#print(maze2[endXY], maze2[startXY])"
   ]
  },
  {
   "cell_type": "code",
   "execution_count": 60,
   "id": "300af98c-79c5-42d0-90ff-dc4b1462ea1e",
   "metadata": {},
   "outputs": [],
   "source": [
    "maze2[startXY] = RED\n",
    "maze2[endXY] = BLUE"
   ]
  },
  {
   "cell_type": "code",
   "execution_count": 61,
   "id": "aa422c1a-723a-4a66-b6ba-27ab3f11ef79",
   "metadata": {},
   "outputs": [],
   "source": [
    "cv.imshow(\"maze2\", maze2)\n",
    "cv.waitKey(0)\n",
    "cv.destroyAllWindows()"
   ]
  },
  {
   "cell_type": "code",
   "execution_count": null,
   "id": "988ecb9c-c4bd-4d57-8fe8-1191832ed85b",
   "metadata": {},
   "outputs": [],
   "source": []
  },
  {
   "cell_type": "code",
   "execution_count": 62,
   "id": "5e440d13-d83c-4c09-8797-e5da6465a896",
   "metadata": {},
   "outputs": [],
   "source": [
    "def inRange(img, x, y):\n",
    "    return (x >= 0 and x < img.shape[0] and y >= 0 and y < img.shape[1])"
   ]
  },
  {
   "cell_type": "code",
   "execution_count": 63,
   "id": "bfff98f9-a99e-4140-bc71-506e01dc27c7",
   "metadata": {},
   "outputs": [],
   "source": [
    "def bfs(img, start):\n",
    "    q = [[start]]\n",
    "    #print(img[start])\n",
    "    while q:\n",
    "        path = q.pop(0)\n",
    "        #print(path)\n",
    "        r, s = path[-1]\n",
    "        for x, y in [(-1, 0), (1,0), (0,1), (0,-1)]:\n",
    "            if inRange(img, r+x, s+y):\n",
    "                if (img[r+x, s+y] != BLACK).any() and (img[r+x, s+y] != YELLOW).any():\n",
    "                    if (img[r+x, s+y] == BLUE).all():\n",
    "                        return path\n",
    "                    else:\n",
    "                        img[r+x, s+y] = YELLOW\n",
    "                        new_path = path.copy()\n",
    "                        new_path.append((r+x, s+y))\n",
    "                        q.append(new_path)\n",
    "                #else:\n",
    "                    #print(img[r+x, s+y])\n",
    "        #print(q)\n",
    "                \n"
   ]
  },
  {
   "cell_type": "code",
   "execution_count": 64,
   "id": "7898212c-44ef-4380-8f16-f99f696877f4",
   "metadata": {},
   "outputs": [],
   "source": [
    "def trackBfs(initial_img, start):\n",
    "    img = initial_img.copy()\n",
    "    path = bfs(img, start)\n",
    "    for pixel in path:\n",
    "        img[pixel] = GREEN\n",
    "    cv.imwrite('BFS.png', img)\n",
    "    cv.imshow(\"final_path\", img)\n",
    "    cv.waitKey(0)\n",
    "    cv.destroyAllWindows()"
   ]
  },
  {
   "cell_type": "code",
   "execution_count": 65,
   "id": "d40c9482-289a-4ebc-88e2-cb29ab4e06e2",
   "metadata": {},
   "outputs": [],
   "source": [
    "path_found = False\n",
    "def dfs(img,start):\n",
    "    global path_found\n",
    "\n",
    "    r,s = start\n",
    "\n",
    "    for (x,y) in [(-1,0),(1,0),(0,-1),(0,1)]:\n",
    "        if inRange(img,r+x,s+y):\n",
    "            if (img[r+x][s+y]!=BLACK).any() and (img[r+x][s+y]!=YELLOW).any():\n",
    "\n",
    "                if (img[r+x][s+y]==BLUE).all():\n",
    "                    path_found = True\n",
    "                    img[r+x][s+y] = GREEN\n",
    "                    break\n",
    "\n",
    "                else:\n",
    "                    img[r+x][s+y] = YELLOW\n",
    "                    dfs(img,(r+x,s+y))\n",
    "\n",
    "                    if path_found:\n",
    "                        img[r+x][s+y]=GREEN\n",
    "                        break\n"
   ]
  },
  {
   "cell_type": "code",
   "execution_count": 66,
   "id": "9acce43b-b8b5-4af4-83bf-f3784cc5e0fe",
   "metadata": {},
   "outputs": [],
   "source": [
    "def trackDfs(inimg,start):\n",
    "    img = inimg.copy()\n",
    "    dfs(img,start)\n",
    "    cv.imwrite('DFS.png', img)\n",
    "    cv.imshow('dfs',img)\n",
    "    cv.waitKey(0)"
   ]
  },
  {
   "cell_type": "code",
   "execution_count": 67,
   "id": "72e10b3d-6d61-4128-a7df-6f3c21d5396e",
   "metadata": {},
   "outputs": [],
   "source": [
    "trackBfs(maze2, startXY)\n"
   ]
  },
  {
   "cell_type": "code",
   "execution_count": 68,
   "id": "1b9ac2f5-62e7-477c-86bf-7730f08faaab",
   "metadata": {},
   "outputs": [],
   "source": [
    "trackDfs(maze2, startXY)"
   ]
  }
 ],
 "metadata": {
  "kernelspec": {
   "display_name": "data_science",
   "language": "python",
   "name": "data_science"
  },
  "language_info": {
   "codemirror_mode": {
    "name": "ipython",
    "version": 3
   },
   "file_extension": ".py",
   "mimetype": "text/x-python",
   "name": "python",
   "nbconvert_exporter": "python",
   "pygments_lexer": "ipython3",
   "version": "3.12.4"
  }
 },
 "nbformat": 4,
 "nbformat_minor": 5
}
